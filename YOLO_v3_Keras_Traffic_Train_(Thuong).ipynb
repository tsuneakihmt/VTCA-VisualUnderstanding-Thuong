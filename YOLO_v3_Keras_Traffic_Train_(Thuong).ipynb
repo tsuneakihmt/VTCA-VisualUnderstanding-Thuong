{
  "nbformat": 4,
  "nbformat_minor": 0,
  "metadata": {
    "colab": {
      "name": "YOLO v3 Keras - Traffic Train (Thuong).ipynb",
      "provenance": [],
      "collapsed_sections": [],
      "include_colab_link": true
    },
    "kernelspec": {
      "name": "python3",
      "display_name": "Python 3"
    },
    "accelerator": "GPU"
  },
  "cells": [
    {
      "cell_type": "markdown",
      "metadata": {
        "id": "view-in-github",
        "colab_type": "text"
      },
      "source": [
        "<a href=\"https://colab.research.google.com/github/tsuneakihmt/VTCA-VisualUnderstanding-Thuong/blob/master/YOLO_v3_Keras_Traffic_Train_(Thuong).ipynb\" target=\"_parent\"><img src=\"https://colab.research.google.com/assets/colab-badge.svg\" alt=\"Open In Colab\"/></a>"
      ]
    },
    {
      "cell_type": "markdown",
      "metadata": {
        "id": "_alhvVEGy3D1",
        "colab_type": "text"
      },
      "source": [
        "Xây dựng bộ phát hiện đối tượng với thuật toán YOLOv3 được viết bằng thư viện Keras. Thư viện này bao gồm đầy đủ các module: phát hiện đối tượng với pre-trainded model, huấn luyện lại mô hình, phát hiện đối tượng ảnh trên ảnh/video/webcam.\n",
        "\n",
        "Đầu tiên, ta sẽ khởi tạo Google Colab với sử dụng 1 GPU. Sau đó thực hiện kết nối với Google Drive của tài khoản cá nhân như sau:"
      ]
    },
    {
      "cell_type": "code",
      "metadata": {
        "id": "tWYdIEs4GvaZ",
        "colab_type": "code",
        "colab": {
          "base_uri": "https://localhost:8080/",
          "height": 122
        },
        "outputId": "880d495e-40c0-4436-c529-0008ff1d16c8"
      },
      "source": [
        "from google.colab import drive\n",
        "drive.mount('/content/gdrive')"
      ],
      "execution_count": 2,
      "outputs": [
        {
          "output_type": "stream",
          "text": [
            "Go to this URL in a browser: https://accounts.google.com/o/oauth2/auth?client_id=947318989803-6bn6qk8qdgf4n4g3pfee6491hc0brc4i.apps.googleusercontent.com&redirect_uri=urn%3aietf%3awg%3aoauth%3a2.0%3aoob&response_type=code&scope=email%20https%3a%2f%2fwww.googleapis.com%2fauth%2fdocs.test%20https%3a%2f%2fwww.googleapis.com%2fauth%2fdrive%20https%3a%2f%2fwww.googleapis.com%2fauth%2fdrive.photos.readonly%20https%3a%2f%2fwww.googleapis.com%2fauth%2fpeopleapi.readonly\n",
            "\n",
            "Enter your authorization code:\n",
            "··········\n",
            "Mounted at /content/gdrive\n"
          ],
          "name": "stdout"
        }
      ]
    },
    {
      "cell_type": "markdown",
      "metadata": {
        "id": "Ey3bs8vR3NPn",
        "colab_type": "text"
      },
      "source": [
        "Sau đó, sử dụng git để clone thư mục project từ github của tác giả experiencor với đường dẫn như sau. Lưu ý rằng, ta nên đặt thực project kế bên file jupyter notebook này để tiện thao tác."
      ]
    },
    {
      "cell_type": "code",
      "metadata": {
        "id": "N_PW5hu4IdXk",
        "colab_type": "code",
        "colab": {}
      },
      "source": [
        "!git clone https://github.com/experiencor/keras-yolo3.git '/content/gdrive/My Drive/AI/Learning/Collab/YoloV3'"
      ],
      "execution_count": null,
      "outputs": []
    },
    {
      "cell_type": "markdown",
      "metadata": {
        "id": "0Ppso2Gj3vnV",
        "colab_type": "text"
      },
      "source": [
        "Sau đó tiến hành cài đặt các thư viện cần thiết để có thể sử dụng được keras-yolo3. Đây là bước thực hiện quan trọng vì thông thường các thư viện sẽ sử dụng các thư viện bên thứ 3 với các phiên bản cố định. Do đó, để đảm bảo thư viện keras-yolo3 sử dụng trơn tru thì ta sẽ cài đặt các thư viện kèm theo trong file requirements.txt."
      ]
    },
    {
      "cell_type": "code",
      "metadata": {
        "id": "VjQWjajkJBSX",
        "colab_type": "code",
        "colab": {}
      },
      "source": [
        "!pip install -r '/content/gdrive/My Drive/AI/Learning/Collab/YoloV3/requirements.txt'"
      ],
      "execution_count": null,
      "outputs": []
    },
    {
      "cell_type": "markdown",
      "metadata": {
        "id": "N3eT3bTp56Hd",
        "colab_type": "text"
      },
      "source": [
        "Thử nghiệm với pretrained model của tác giả thuật toán YOLO.\n",
        "\n",
        "File mô hình huấn luyện sẵn được đặt ở đường dẫn sau https://pjreddie.com/media/files/yolov3.weights\n",
        "Lưu ý là file mô hình cần được đặt trong thư mục gốc của thư viện để tiện cho việc thực hiện."
      ]
    },
    {
      "cell_type": "code",
      "metadata": {
        "id": "JLTQkJH1JR-G",
        "colab_type": "code",
        "colab": {
          "base_uri": "https://localhost:8080/",
          "height": 153
        },
        "outputId": "592e8af7-acb4-45da-c596-c5c23984afc5"
      },
      "source": [
        "!wget 'https://pjreddie.com/media/files/yolov3.weights' -O '/content/gdrive/My Drive/AI/Learning/Collab/YoloV3/yolov3.weights'"
      ],
      "execution_count": 3,
      "outputs": [
        {
          "output_type": "stream",
          "text": [
            "--2020-07-15 06:53:13--  https://pjreddie.com/media/files/yolov3.weights\n",
            "Resolving pjreddie.com (pjreddie.com)... 128.208.4.108\n",
            "Connecting to pjreddie.com (pjreddie.com)|128.208.4.108|:443... connected.\n",
            "HTTP request sent, awaiting response... 200 OK\n",
            "Length: 248007048 (237M) [application/octet-stream]\n",
            "Saving to: ‘/content/gdrive/My Drive/AI/Learning/Collab/YoloV3/yolov3.weights’\n",
            "\n",
            "e/AI/Learning/Colla  18%[==>                 ]  42.88M  87.3KB/s    eta 22m 26s^C\n"
          ],
          "name": "stdout"
        }
      ]
    },
    {
      "cell_type": "code",
      "metadata": {
        "id": "r9yJn80bkaPT",
        "colab_type": "code",
        "colab": {
          "base_uri": "https://localhost:8080/",
          "height": 35
        },
        "outputId": "71a17fe1-455f-48cb-cd85-68c993ed512c"
      },
      "source": [
        "#Check GPU\n",
        "import tensorflow as tf\n",
        "tf.test.gpu_device_name()"
      ],
      "execution_count": 1,
      "outputs": [
        {
          "output_type": "execute_result",
          "data": {
            "application/vnd.google.colaboratory.intrinsic": {
              "type": "string"
            },
            "text/plain": [
              "'/device:GPU:0'"
            ]
          },
          "metadata": {
            "tags": []
          },
          "execution_count": 1
        }
      ]
    },
    {
      "cell_type": "markdown",
      "metadata": {
        "id": "dIgrFV1B_gyo",
        "colab_type": "text"
      },
      "source": [
        "Một file khác cũng rất quan trọng của các mô hình huấn luyện học sâu nói chung và YOLO nói riêng là file cấu hình (config) các tham số khi huấn luyện.\n",
        "\n",
        "Trong thư viện này, file config được đặt trong thư mục /zoo. Ví dụ như config_raccoon.json. Các tham số cơ bản của file config như:\n",
        "- Đường dẫn đến thư mục train, validation (mặc định chia tỉ lệ train:validation = 8:2 nếu không có tham số gắn sẵn)\n",
        "- GPU sử dụng để huấn luyện\n",
        "- File pretrained cho tập image net backend.h5\n",
        "- Learning rate\n",
        "- Batch size\n",
        "\n",
        "Sau khi đã cấu hình file config, ta sẽ tiến hành huấn luyện:"
      ]
    },
    {
      "cell_type": "code",
      "metadata": {
        "id": "yzoUhP85VF41",
        "colab_type": "code",
        "colab": {}
      },
      "source": [
        "!python '/content/gdrive/My Drive/AI/Learning/Collab/YoloV3/train.py' -c '/content/gdrive/My Drive/AI/Learning/Collab/YoloV3/traffic_dataset/config/config_city.json'"
      ],
      "execution_count": null,
      "outputs": []
    },
    {
      "cell_type": "markdown",
      "metadata": {
        "id": "185rzO2_B4AK",
        "colab_type": "text"
      },
      "source": [
        "Sau khi quá trình huấn luyện kết thúc, hệ thống sẽ lưu mô hình city.h5 trong thư mục của máy ảo colab. Ta có thể sửa lại mã nguồn của thư viện để các file mô hình và file trung gian đặt trong thư mục của thư viện cho gọn gàng.\n",
        "\n",
        "Sau đó, ta sẽ tiến hành thử nghiệm mô hình đã huấn luyện trên ảnh mẫu lấy từ mạng internet hoặc thư mục ảnh validation/train.\n",
        "\n",
        "Dưới đây là sử dụng lại hình ảnh trong bộ thư viện train để valuate thử"
      ]
    },
    {
      "cell_type": "code",
      "metadata": {
        "id": "MK3ZCsebzdFC",
        "colab_type": "code",
        "colab": {}
      },
      "source": [
        "!python '/content/gdrive/My Drive/AI/Learning/Collab/YoloV3/predict.py' -c '/content/gdrive/My Drive/AI/Learning/Collab/YoloV3/traffic_dataset/config/config_city.json' -i '/content/gdrive/My Drive/AI/Learning/Collab/YoloV3/traffic_dataset/JPEGImages/img(241).jpg'"
      ],
      "execution_count": null,
      "outputs": []
    },
    {
      "cell_type": "markdown",
      "metadata": {
        "id": "UYiXj5UyOWjh",
        "colab_type": "text"
      },
      "source": [
        "Tiếp theo chúng ta sử dụng video nằm ngoài training data để valuate model\n",
        "\n",
        "Link download video: https://drive.google.com/file/d/1xNCHifyCupOu5LJS81BmonToTrAYvPt7/view?usp=sharing"
      ]
    },
    {
      "cell_type": "code",
      "metadata": {
        "id": "34ikwvXzTCPG",
        "colab_type": "code",
        "colab": {}
      },
      "source": [
        "!python '/content/gdrive/My Drive/AI/Learning/Collab/YoloV3/predict.py' -c '/content/gdrive/My Drive/AI/Learning/Collab/YoloV3/traffic_dataset/config/config_city.json' -i '/content/gdrive/My Drive/AI/Learning/Collab/YoloV3/traffic_dataset/evalvid.mp4'"
      ],
      "execution_count": null,
      "outputs": []
    },
    {
      "cell_type": "code",
      "metadata": {
        "id": "5-P-qaB2RMar",
        "colab_type": "code",
        "colab": {}
      },
      "source": [
        "# Di chuyen video den Drive ca nhan de tien cho viec download\n",
        "!mv \"/content/output/evalvid.mp4\" \"/content/gdrive/My Drive/AI/Learning/Collab/YoloV3/traffic_dataset/Output\""
      ],
      "execution_count": null,
      "outputs": []
    }
  ]
}